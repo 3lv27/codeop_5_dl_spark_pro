{
 "cells": [
  {
   "cell_type": "markdown",
   "id": "d46c8e32-6381-44b2-a522-238359b0606c",
   "metadata": {},
   "source": [
    "# Spark SQL with pySpark"
   ]
  },
  {
   "cell_type": "markdown",
   "id": "e355437c-f3b8-4e13-8c6f-7a4203959afc",
   "metadata": {},
   "source": [
    "Answer the following questions"
   ]
  },
  {
   "cell_type": "code",
   "execution_count": null,
   "id": "9a0e2c1f-1fea-493e-872f-5a4fdf691019",
   "metadata": {},
   "outputs": [],
   "source": [
    "from pyspark.sql import SparkSession\n",
    "from pyspark.sql.functions import *\n",
    "from pyspark.sql import Row, Window\n",
    "from pyspark.sql.types import IntegerType"
   ]
  },
  {
   "cell_type": "code",
   "execution_count": null,
   "id": "7099a616-fe1e-48b8-bfb8-d85be20a045a",
   "metadata": {},
   "outputs": [],
   "source": [
    "spark = SparkSession.builder \\\n",
    "    .master(\"local\") \\\n",
    "    .config(\"spark.sql.autoBroadcastJoinThreshold\", -1) \\\n",
    "    .config(\"spark.executor.memory\", \"3g\") \\\n",
    "    .appName(\"Exercise1\") \\\n",
    "    .getOrCreate()"
   ]
  },
  {
   "cell_type": "code",
   "execution_count": null,
   "id": "4f0ffc3a-b882-4a64-86e0-f6ff05b293eb",
   "metadata": {},
   "outputs": [],
   "source": [
    "# Read the source tables\n",
    "products_table = spark.read.parquet(\"./data/products_parquet\")\n",
    "sales_table = spark.read.parquet(\"./data/sales_parquet\")\n",
    "sellers_table = spark.read.parquet(\"./data/sellers_parquet\")"
   ]
  },
  {
   "cell_type": "markdown",
   "id": "39ff0eec-e5a4-491b-a893-d0e956370373",
   "metadata": {},
   "source": [
    "1. For each seller find the average % of the target amount brought by each order"
   ]
  },
  {
   "cell_type": "code",
   "execution_count": null,
   "id": "fd67a045-5b67-40af-b95f-565ab19cfe2d",
   "metadata": {},
   "outputs": [],
   "source": []
  },
  {
   "cell_type": "markdown",
   "id": "8f08305b-9f05-410a-8bbf-7fe74b22087b",
   "metadata": {},
   "source": [
    "| date | distinct_products_sold |\n",
    "|-----:|------------------------|\n",
    "| 0    | 2.019885898946922      |\n",
    "| 7    | 2.595228787788170      |\n",
    "| 3    | 1.62888537056594E-4    |\n",
    "| 8    | 9.213030375408861E-5   |\n",
    "| 5    | 4.211073965904022E-5   |\n",
    "| 6    | 4.782147194369122E-5   |\n",
    "| 9    | 3.837913136180238E-5   |\n",
    "| 1    | 1.964233366461014      |\n",
    "| 4    | 3.296428039825817E-5   |\n",
    "| 2    | 6.690408001060484E-5   |"
   ]
  },
  {
   "cell_type": "markdown",
   "id": "1ea123f1-22d9-4c1d-b86f-14ad94ae14b9",
   "metadata": {},
   "source": [
    "2. Who are the second most selling and the least selling persons (sellers) for each product? "
   ]
  },
  {
   "cell_type": "code",
   "execution_count": null,
   "id": "6e712596-f544-4861-a9eb-4dc4a62be2b2",
   "metadata": {},
   "outputs": [],
   "source": []
  },
  {
   "cell_type": "code",
   "execution_count": null,
   "id": "1d21c009-2bad-406b-8f9d-c095a1d10495",
   "metadata": {},
   "outputs": [],
   "source": []
  },
  {
   "cell_type": "code",
   "execution_count": null,
   "id": "21b64d79-2c7b-4efa-827b-0ce701e35111",
   "metadata": {},
   "outputs": [],
   "source": []
  },
  {
   "cell_type": "code",
   "execution_count": null,
   "id": "c6dc1894-f888-46f3-921c-4ad4d7b6744f",
   "metadata": {},
   "outputs": [],
   "source": []
  },
  {
   "cell_type": "code",
   "execution_count": null,
   "id": "5c4df393-1915-41a7-83c1-24688d756a77",
   "metadata": {},
   "outputs": [],
   "source": []
  },
  {
   "cell_type": "code",
   "execution_count": null,
   "id": "b4b95db9-bb13-485f-81a1-8bedcd2aec0a",
   "metadata": {},
   "outputs": [],
   "source": []
  },
  {
   "cell_type": "code",
   "execution_count": null,
   "id": "c94f4b7f-5f35-491b-a414-f7526c7d1a12",
   "metadata": {},
   "outputs": [],
   "source": [
    "\n"
   ]
  },
  {
   "cell_type": "markdown",
   "id": "3fc55c34-3297-4ce8-baf9-2cc03c2fe5d0",
   "metadata": {},
   "source": [
    "| product_id | seller_id | type         |\n",
    "|-----------:|-----------|--------------|\n",
    "| 19986717   | 1         | Least Seller |\n",
    "| 72017876   | 1         | Least Seller |\n",
    "| 3534470    | 3         | Least Seller |\n",
    "| 35669461   | 4         | Least Seller |\n",
    "| 14542470   | 5         | Least Seller |\n",
    "| 28592106   | 5         | Least Seller |\n",
    "| 34681047   | 5         | Least Seller |\n",
    "| 40496308   | 5         | Least Seller |\n",
    "| 56011040   | 5         | Least Seller |\n",
    "| 67723231   | 5         | Least Seller |"
   ]
  },
  {
   "cell_type": "markdown",
   "id": "91458a96-1df5-47f6-b9d5-30fc448a3640",
   "metadata": {},
   "source": [
    "2.1. Who are those for the product with product_id = 0"
   ]
  },
  {
   "cell_type": "code",
   "execution_count": null,
   "id": "c0532c2c-02e5-427b-b1f1-1afcc3ceeb3b",
   "metadata": {},
   "outputs": [],
   "source": []
  },
  {
   "cell_type": "markdown",
   "id": "4d58cf17-bc75-4c7e-bb35-23cbc3f2a795",
   "metadata": {},
   "source": [
    "| product_id | seller_id | type         |\n",
    "|-----------:|-----------|--------------|\n",
    "| 0   | 0         | Only seller or mu... |"
   ]
  },
  {
   "cell_type": "markdown",
   "id": "2995fcdd-9777-43db-bd49-f0a9b419b6d6",
   "metadata": {},
   "source": []
  }
 ],
 "metadata": {
  "kernelspec": {
   "display_name": "Python 3 (ipykernel)",
   "language": "python",
   "name": "python3"
  },
  "language_info": {
   "codemirror_mode": {
    "name": "ipython",
    "version": 3
   },
   "file_extension": ".py",
   "mimetype": "text/x-python",
   "name": "python",
   "nbconvert_exporter": "python",
   "pygments_lexer": "ipython3",
   "version": "3.9.10"
  }
 },
 "nbformat": 4,
 "nbformat_minor": 5
}
